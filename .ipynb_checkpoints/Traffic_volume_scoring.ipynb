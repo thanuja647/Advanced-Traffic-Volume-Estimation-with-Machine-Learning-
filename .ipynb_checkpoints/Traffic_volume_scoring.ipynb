{
 "cells": [
  {
   "cell_type": "code",
   "execution_count": null,
   "metadata": {
    "vscode": {
     "languageId": "plaintext"
    }
   },
   "outputs": [],
   "source": [
    "import requests\n",
    "import json\n",
    "\n",
    "# IBM Watson Machine Learning API details\n",
    "API_KEY = \"YOUR_IBM_CLOUD_API_KEY\"\n",
    "DEPLOYMENT_URL = \"YOUR_DEPLOYMENT_ENDPOINT\"\n",
    "\n",
    "# Sample input data\n",
    "input_data = {\n",
    "    \"input_data\": [\n",
    "        {\n",
    "            \"fields\": [\"temp\", \"rain\", \"snow\", \"year\", \"month\", \"day\", \"hour\", \"holiday\", \"weather\"],\n",
    "            \"values\": [[25.0, 0.0, 0.0, 2025, 2, 26, 14, \"None\", \"Clear\"]]\n",
    "        }\n",
    "    ]\n",
    "}\n",
    "\n",
    "# Obtain access token\n",
    "token_response = requests.post(\n",
    "    \"https://iam.cloud.ibm.com/identity/token\",\n",
    "    data={\"apikey\": API_KEY, \"grant_type\": \"urn:ibm:params:oauth:grant-type:apikey\"},\n",
    "    headers={\"Content-Type\": \"application/x-www-form-urlencoded\"}\n",
    ")\n",
    "\n",
    "if token_response.status_code == 200:\n",
    "    token = token_response.json()[\"access_token\"]\n",
    "\n",
    "    # Send request for prediction\n",
    "    headers = {\n",
    "        \"Authorization\": f\"Bearer {token}\",\n",
    "        \"Content-Type\": \"application/json\"\n",
    "    }\n",
    "    response = requests.post(DEPLOYMENT_URL, json=input_data, headers=headers)\n",
    "\n",
    "    if response.status_code == 200:\n",
    "        print(\"Prediction Response:\", response.json())\n",
    "    else:\n",
    "        print(\"Error in prediction:\", response.text)\n",
    "else:\n",
    "    print(\"Error obtaining token:\", token_response.text)\n"
   ]
  }
 ],
 "metadata": {
  "language_info": {
   "name": "python"
  }
 },
 "nbformat": 4,
 "nbformat_minor": 2
}
